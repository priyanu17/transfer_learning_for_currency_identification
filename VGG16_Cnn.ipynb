{
 "cells": [
  {
   "cell_type": "code",
   "execution_count": 12,
   "metadata": {},
   "outputs": [],
   "source": [
    "# Using Transfer Learning Models: VGG16"
   ]
  },
  {
   "cell_type": "code",
   "execution_count": 13,
   "metadata": {},
   "outputs": [],
   "source": [
    "# required imports\n",
    "\n",
    "from tensorflow.keras.layers import  Dense, Flatten\n",
    "\n",
    "from tensorflow.keras.models import Model\n",
    "from tensorflow.keras.applications.vgg16 import VGG16"
   ]
  },
  {
   "cell_type": "code",
   "execution_count": 14,
   "metadata": {},
   "outputs": [],
   "source": [
    "# loading VGG16 model\n",
    "vgg = VGG16(input_shape=[224, 224] + [3], weights='imagenet', include_top=False)\n",
    "\n",
    "# acquiring trained parameters\n",
    "for layer in vgg.layers:\n",
    "    layer.trainable = False\n",
    "  "
   ]
  },
  {
   "cell_type": "code",
   "execution_count": 15,
   "metadata": {},
   "outputs": [
    {
     "name": "stdout",
     "output_type": "stream",
     "text": [
      "Model: \"functional_3\"\n",
      "_________________________________________________________________\n",
      "Layer (type)                 Output Shape              Param #   \n",
      "=================================================================\n",
      "input_2 (InputLayer)         [(None, 224, 224, 3)]     0         \n",
      "_________________________________________________________________\n",
      "block1_conv1 (Conv2D)        (None, 224, 224, 64)      1792      \n",
      "_________________________________________________________________\n",
      "block1_conv2 (Conv2D)        (None, 224, 224, 64)      36928     \n",
      "_________________________________________________________________\n",
      "block1_pool (MaxPooling2D)   (None, 112, 112, 64)      0         \n",
      "_________________________________________________________________\n",
      "block2_conv1 (Conv2D)        (None, 112, 112, 128)     73856     \n",
      "_________________________________________________________________\n",
      "block2_conv2 (Conv2D)        (None, 112, 112, 128)     147584    \n",
      "_________________________________________________________________\n",
      "block2_pool (MaxPooling2D)   (None, 56, 56, 128)       0         \n",
      "_________________________________________________________________\n",
      "block3_conv1 (Conv2D)        (None, 56, 56, 256)       295168    \n",
      "_________________________________________________________________\n",
      "block3_conv2 (Conv2D)        (None, 56, 56, 256)       590080    \n",
      "_________________________________________________________________\n",
      "block3_conv3 (Conv2D)        (None, 56, 56, 256)       590080    \n",
      "_________________________________________________________________\n",
      "block3_pool (MaxPooling2D)   (None, 28, 28, 256)       0         \n",
      "_________________________________________________________________\n",
      "block4_conv1 (Conv2D)        (None, 28, 28, 512)       1180160   \n",
      "_________________________________________________________________\n",
      "block4_conv2 (Conv2D)        (None, 28, 28, 512)       2359808   \n",
      "_________________________________________________________________\n",
      "block4_conv3 (Conv2D)        (None, 28, 28, 512)       2359808   \n",
      "_________________________________________________________________\n",
      "block4_pool (MaxPooling2D)   (None, 14, 14, 512)       0         \n",
      "_________________________________________________________________\n",
      "block5_conv1 (Conv2D)        (None, 14, 14, 512)       2359808   \n",
      "_________________________________________________________________\n",
      "block5_conv2 (Conv2D)        (None, 14, 14, 512)       2359808   \n",
      "_________________________________________________________________\n",
      "block5_conv3 (Conv2D)        (None, 14, 14, 512)       2359808   \n",
      "_________________________________________________________________\n",
      "block5_pool (MaxPooling2D)   (None, 7, 7, 512)         0         \n",
      "_________________________________________________________________\n",
      "flatten_1 (Flatten)          (None, 25088)             0         \n",
      "_________________________________________________________________\n",
      "dense_1 (Dense)              (None, 211)               5293779   \n",
      "=================================================================\n",
      "Total params: 20,008,467\n",
      "Trainable params: 5,293,779\n",
      "Non-trainable params: 14,714,688\n",
      "_________________________________________________________________\n"
     ]
    }
   ],
   "source": [
    "# adding a flatten layer\n",
    "modified_vgg = Flatten()(vgg.output)\n",
    "\n",
    "# adding final output layer\n",
    "vgg_pred = Dense(211, activation='softmax')(modified_vgg)\n",
    "\n",
    "# create a model object\n",
    "model_vgg = Model(inputs=vgg.input, outputs=vgg_pred)\n",
    "\n",
    "model_vgg.summary()"
   ]
  },
  {
   "cell_type": "code",
   "execution_count": 16,
   "metadata": {},
   "outputs": [],
   "source": [
    "# compile the model\n",
    "\n",
    "model_vgg.compile(\n",
    "  loss='categorical_crossentropy',\n",
    "  optimizer='adam',\n",
    "  metrics=['accuracy']\n",
    ")\n"
   ]
  },
  {
   "cell_type": "code",
   "execution_count": null,
   "metadata": {},
   "outputs": [],
   "source": []
  },
  {
   "cell_type": "code",
   "execution_count": 17,
   "metadata": {},
   "outputs": [],
   "source": [
    "# required imports\n",
    "\n",
    "from tensorflow.python.keras.applications.vgg16 import preprocess_input\n",
    "from tensorflow.keras.preprocessing.image import ImageDataGenerator"
   ]
  },
  {
   "cell_type": "code",
   "execution_count": 18,
   "metadata": {},
   "outputs": [],
   "source": [
    "# using custom variations on training images as given in docs\n",
    "\n",
    "data_gen_vgg = ImageDataGenerator(preprocessing_function=preprocess_input)"
   ]
  },
  {
   "cell_type": "code",
   "execution_count": 19,
   "metadata": {},
   "outputs": [
    {
     "name": "stdout",
     "output_type": "stream",
     "text": [
      "Found 6413 images belonging to 211 classes.\n"
     ]
    }
   ],
   "source": [
    "# extract training images from directory\n",
    "\n",
    "training_set = data_gen_vgg.flow_from_directory(\n",
    "                directory = \"Currency_Images/coins/data/train\",\n",
    "                target_size = (224, 224),\n",
    "                class_mode = 'categorical',\n",
    "                batch_size = 32,\n",
    "                subset = 'training'\n",
    "                )"
   ]
  },
  {
   "cell_type": "code",
   "execution_count": 20,
   "metadata": {},
   "outputs": [
    {
     "name": "stdout",
     "output_type": "stream",
     "text": [
      "Found 844 images belonging to 211 classes.\n"
     ]
    }
   ],
   "source": [
    "# validation set images extracted from directory\n",
    "\n",
    "validation_set = data_gen_vgg.flow_from_directory(\n",
    "        directory = 'Currency_Images/coins/data/validation',\n",
    "        target_size=(224, 224),\n",
    "        class_mode='categorical',\n",
    "        batch_size=32\n",
    ")"
   ]
  },
  {
   "cell_type": "code",
   "execution_count": 21,
   "metadata": {},
   "outputs": [
    {
     "name": "stdout",
     "output_type": "stream",
     "text": [
      "Found 844 images belonging to 211 classes.\n"
     ]
    }
   ],
   "source": [
    "# test images extracted from directory\n",
    "\n",
    "test_set = data_gen_vgg.flow_from_directory(\n",
    "            directory = 'Currency_Images/coins/data/test',\n",
    "            target_size=(224, 224),\n",
    "            class_mode='categorical',\n",
    "            batch_size=32\n",
    "        )"
   ]
  },
  {
   "cell_type": "code",
   "execution_count": 22,
   "metadata": {},
   "outputs": [
    {
     "name": "stdout",
     "output_type": "stream",
     "text": [
      "Epoch 1/3\n",
      "201/201 [==============================] - 3567s 18s/step - loss: 33.1895 - accuracy: 0.5358 - val_loss: 26.6094 - val_accuracy: 0.6742\n",
      "Epoch 2/3\n",
      "201/201 [==============================] - 2561s 13s/step - loss: 8.7623 - accuracy: 0.8576 - val_loss: 31.2987 - val_accuracy: 0.7121\n",
      "Epoch 3/3\n",
      "201/201 [==============================] - 2802s 14s/step - loss: 7.2258 - accuracy: 0.9004 - val_loss: 33.2415 - val_accuracy: 0.7133\n"
     ]
    }
   ],
   "source": [
    "# model fit on the training set\n",
    "\n",
    "history_vgg = model_vgg.fit_generator(generator = training_set,\n",
    "                              validation_data = validation_set,\n",
    "                              epochs = 3\n",
    "                             )"
   ]
  },
  {
   "cell_type": "code",
   "execution_count": 23,
   "metadata": {},
   "outputs": [
    {
     "name": "stdout",
     "output_type": "stream",
     "text": [
      "WARNING:tensorflow:From <ipython-input-23-76db8f2d6446>:3: Model.evaluate_generator (from tensorflow.python.keras.engine.training) is deprecated and will be removed in a future version.\n",
      "Instructions for updating:\n",
      "Please use Model.evaluate, which supports generators.\n",
      "27/27 - 209s - loss: 28.7852 - accuracy: 0.7121\n"
     ]
    }
   ],
   "source": [
    "# final evaluation on the test set\n",
    "\n",
    "score_vgg16 = model_vgg.evaluate_generator(test_set, verbose=2)\n"
   ]
  },
  {
   "cell_type": "code",
   "execution_count": 24,
   "metadata": {},
   "outputs": [
    {
     "name": "stdout",
     "output_type": "stream",
     "text": [
      "VGG16 Model : Test Loss is :  28.785228729248047\n",
      "VGG16 Model : Test Accuracy is :  0.7120853066444397\n"
     ]
    }
   ],
   "source": [
    "# test loss and test accuracy\n",
    "\n",
    "print('VGG16 Model : Test Loss is : ', score_vgg16[0])\n",
    "print('VGG16 Model : Test Accuracy is : ', score_vgg16[1])"
   ]
  },
  {
   "cell_type": "code",
   "execution_count": 25,
   "metadata": {},
   "outputs": [],
   "source": [
    "model_vgg.save('Vgg16_model_for_currency_classification.h5')"
   ]
  },
  {
   "cell_type": "code",
   "execution_count": null,
   "metadata": {},
   "outputs": [],
   "source": []
  },
  {
   "cell_type": "code",
   "execution_count": null,
   "metadata": {},
   "outputs": [],
   "source": []
  },
  {
   "cell_type": "code",
   "execution_count": null,
   "metadata": {},
   "outputs": [],
   "source": []
  }
 ],
 "metadata": {
  "kernelspec": {
   "display_name": "Python 3",
   "language": "python",
   "name": "python3"
  }
 },
 "nbformat": 4,
 "nbformat_minor": 4
}

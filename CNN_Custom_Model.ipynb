{
 "cells": [
  {
   "cell_type": "code",
   "execution_count": 27,
   "metadata": {},
   "outputs": [],
   "source": [
    "# zipfile used to extract training and test images\n",
    "\n",
    "import zipfile"
   ]
  },
  {
   "cell_type": "code",
   "execution_count": 28,
   "metadata": {},
   "outputs": [],
   "source": [
    "#import zipfile\n",
    "#with zipfile.ZipFile(\"150253_347412_bundle_archive.zip\", 'r') as zip_ref:\n",
    "#    zip_ref.extractall(\"Currency_Images\")"
   ]
  },
  {
   "cell_type": "code",
   "execution_count": 29,
   "metadata": {},
   "outputs": [],
   "source": [
    "import tensorflow as tf"
   ]
  },
  {
   "cell_type": "code",
   "execution_count": 30,
   "metadata": {},
   "outputs": [
    {
     "name": "stdout",
     "output_type": "stream",
     "text": [
      "2.3.0\n"
     ]
    }
   ],
   "source": [
    "print(tf.__version__)"
   ]
  },
  {
   "cell_type": "code",
   "execution_count": 31,
   "metadata": {},
   "outputs": [],
   "source": [
    "# module used to generate custom variations on the images\n",
    "\n",
    "from tensorflow.keras.preprocessing.image import ImageDataGenerator"
   ]
  },
  {
   "cell_type": "code",
   "execution_count": 32,
   "metadata": {},
   "outputs": [],
   "source": [
    "# variations on the training set images\n",
    "\n",
    "train_data_gen = ImageDataGenerator(\n",
    "    rescale=1./255.0, \n",
    "    shear_range=0.2,\n",
    "    zoom_range=0.2,\n",
    "    horizontal_flip=True\n",
    "    )\n"
   ]
  },
  {
   "cell_type": "code",
   "execution_count": 33,
   "metadata": {},
   "outputs": [
    {
     "name": "stdout",
     "output_type": "stream",
     "text": [
      "Found 6413 images belonging to 211 classes.\n"
     ]
    }
   ],
   "source": [
    "# extract training images from directory\n",
    "\n",
    "training_set = train_data_gen.flow_from_directory(\n",
    "                directory = \"Currency_Images/coins/data/train\",\n",
    "                target_size = (64, 64),\n",
    "                class_mode = 'categorical',\n",
    "                batch_size = 32,\n",
    "                subset = 'training'\n",
    "                )"
   ]
  },
  {
   "cell_type": "code",
   "execution_count": 34,
   "metadata": {},
   "outputs": [],
   "source": [
    "# variations on validation set images : rescaling\n",
    "\n",
    "valid_data_gen = ImageDataGenerator(\n",
    "    rescale=1./255.0\n",
    "    )\n"
   ]
  },
  {
   "cell_type": "code",
   "execution_count": 35,
   "metadata": {},
   "outputs": [
    {
     "name": "stdout",
     "output_type": "stream",
     "text": [
      "Found 844 images belonging to 211 classes.\n"
     ]
    }
   ],
   "source": [
    "# validation set images extracted from directory\n",
    "\n",
    "validation_set = valid_data_gen.flow_from_directory(\n",
    "        directory = 'Currency_Images/coins/data/validation',\n",
    "        target_size=(64, 64),\n",
    "        class_mode='categorical',\n",
    "        batch_size=32\n",
    ")"
   ]
  },
  {
   "cell_type": "code",
   "execution_count": 36,
   "metadata": {},
   "outputs": [],
   "source": [
    "# variations on the test images : rescaling\n",
    "\n",
    "test_data_gen = ImageDataGenerator(rescale=1./255.0)"
   ]
  },
  {
   "cell_type": "code",
   "execution_count": 37,
   "metadata": {},
   "outputs": [
    {
     "name": "stdout",
     "output_type": "stream",
     "text": [
      "Found 844 images belonging to 211 classes.\n"
     ]
    }
   ],
   "source": [
    "# test images extracted from directory\n",
    "\n",
    "test_set = test_data_gen.flow_from_directory(\n",
    "        directory = 'Currency_Images/coins/data/test',\n",
    "        target_size=(64, 64),\n",
    "        class_mode='categorical',\n",
    "        batch_size=32\n",
    ")"
   ]
  },
  {
   "cell_type": "code",
   "execution_count": 38,
   "metadata": {},
   "outputs": [],
   "source": [
    "# imports for the custom model\n",
    "\n",
    "from tensorflow.keras import Sequential\n",
    "from tensorflow.keras.layers import Conv2D,MaxPool2D,Dropout,Flatten,Dense"
   ]
  },
  {
   "cell_type": "code",
   "execution_count": 39,
   "metadata": {},
   "outputs": [],
   "source": [
    "# initiating the model\n",
    "custom_model = Sequential()\n",
    "\n",
    "# first set of convolution and pooling operations along with dropout\n",
    "custom_model.add(Conv2D(16,(3,3),activation='relu',input_shape=(64,64,3)))\n",
    "custom_model.add(MaxPool2D(2,2))\n",
    "custom_model.add(Dropout(0.2))\n",
    "\n",
    "# second set of convolution and pooling operations along with dropout\n",
    "custom_model.add(Conv2D(32,(3,3),activation='relu'))\n",
    "custom_model.add(MaxPool2D(2,2))\n",
    "custom_model.add(Dropout(0.3))\n",
    "\n",
    "# third set of convolution and pooling operations along with dropout\n",
    "custom_model.add(Conv2D(64,(3,3),activation='relu'))\n",
    "custom_model.add(MaxPool2D(2,2))\n",
    "custom_model.add(Dropout(0.3))\n",
    "\n",
    "# flattening the output from previous layers\n",
    "custom_model.add(Flatten())\n",
    "\n",
    "# first dense layer followed by a 0.2 dropout layer\n",
    "custom_model.add(Dense(256,activation='relu'))\n",
    "custom_model.add(Dropout(0.2))\n",
    "\n",
    "# second dense layer followed by a 0.2 dropout layer\n",
    "custom_model.add(Dense(256,activation='relu'))\n",
    "custom_model.add(Dropout(0.2))\n",
    "\n",
    "# third dense layer followed by a 0.2 dropout layer\n",
    "custom_model.add(Dense(256,activation='relu'))\n",
    "custom_model.add(Dropout(0.2))\n",
    "\n",
    "# fourth dense layer followed by a 0.2 dropout layer\n",
    "custom_model.add(Dense(256,activation='relu'))\n",
    "custom_model.add(Dropout(0.2))\n",
    "\n",
    "# output layer\n",
    "custom_model.add(Dense(211,activation='softmax'))"
   ]
  },
  {
   "cell_type": "code",
   "execution_count": 40,
   "metadata": {},
   "outputs": [],
   "source": [
    "# compile the model\n",
    "\n",
    "custom_model.compile(optimizer='adam',loss='categorical_crossentropy',metrics=['accuracy'])"
   ]
  },
  {
   "cell_type": "code",
   "execution_count": 41,
   "metadata": {},
   "outputs": [
    {
     "name": "stdout",
     "output_type": "stream",
     "text": [
      "Model: \"sequential\"\n",
      "_________________________________________________________________\n",
      "Layer (type)                 Output Shape              Param #   \n",
      "=================================================================\n",
      "conv2d (Conv2D)              (None, 62, 62, 16)        448       \n",
      "_________________________________________________________________\n",
      "max_pooling2d (MaxPooling2D) (None, 31, 31, 16)        0         \n",
      "_________________________________________________________________\n",
      "dropout (Dropout)            (None, 31, 31, 16)        0         \n",
      "_________________________________________________________________\n",
      "conv2d_1 (Conv2D)            (None, 29, 29, 32)        4640      \n",
      "_________________________________________________________________\n",
      "max_pooling2d_1 (MaxPooling2 (None, 14, 14, 32)        0         \n",
      "_________________________________________________________________\n",
      "dropout_1 (Dropout)          (None, 14, 14, 32)        0         \n",
      "_________________________________________________________________\n",
      "conv2d_2 (Conv2D)            (None, 12, 12, 64)        18496     \n",
      "_________________________________________________________________\n",
      "max_pooling2d_2 (MaxPooling2 (None, 6, 6, 64)          0         \n",
      "_________________________________________________________________\n",
      "dropout_2 (Dropout)          (None, 6, 6, 64)          0         \n",
      "_________________________________________________________________\n",
      "flatten_1 (Flatten)          (None, 2304)              0         \n",
      "_________________________________________________________________\n",
      "dense_1 (Dense)              (None, 256)               590080    \n",
      "_________________________________________________________________\n",
      "dropout_3 (Dropout)          (None, 256)               0         \n",
      "_________________________________________________________________\n",
      "dense_2 (Dense)              (None, 256)               65792     \n",
      "_________________________________________________________________\n",
      "dropout_4 (Dropout)          (None, 256)               0         \n",
      "_________________________________________________________________\n",
      "dense_3 (Dense)              (None, 256)               65792     \n",
      "_________________________________________________________________\n",
      "dropout_5 (Dropout)          (None, 256)               0         \n",
      "_________________________________________________________________\n",
      "dense_4 (Dense)              (None, 256)               65792     \n",
      "_________________________________________________________________\n",
      "dropout_6 (Dropout)          (None, 256)               0         \n",
      "_________________________________________________________________\n",
      "dense_5 (Dense)              (None, 211)               54227     \n",
      "=================================================================\n",
      "Total params: 865,267\n",
      "Trainable params: 865,267\n",
      "Non-trainable params: 0\n",
      "_________________________________________________________________\n"
     ]
    }
   ],
   "source": [
    "custom_model.summary()"
   ]
  },
  {
   "cell_type": "code",
   "execution_count": 42,
   "metadata": {},
   "outputs": [
    {
     "name": "stdout",
     "output_type": "stream",
     "text": [
      "Epoch 1/20\n",
      "201/201 [==============================] - 51s 256ms/step - loss: 5.3482 - accuracy: 0.0061 - val_loss: 5.3499 - val_accuracy: 0.0059\n",
      "Epoch 2/20\n",
      "201/201 [==============================] - 105s 524ms/step - loss: 5.2182 - accuracy: 0.0097 - val_loss: 5.1135 - val_accuracy: 0.0095\n",
      "Epoch 3/20\n",
      "201/201 [==============================] - 112s 557ms/step - loss: 4.9639 - accuracy: 0.0156 - val_loss: 4.9700 - val_accuracy: 0.0095\n",
      "Epoch 4/20\n",
      "201/201 [==============================] - 106s 529ms/step - loss: 4.9055 - accuracy: 0.0187 - val_loss: 4.9107 - val_accuracy: 0.0083\n",
      "Epoch 5/20\n",
      "201/201 [==============================] - 114s 568ms/step - loss: 4.8035 - accuracy: 0.0268 - val_loss: 4.7846 - val_accuracy: 0.0273\n",
      "Epoch 6/20\n",
      "201/201 [==============================] - 121s 601ms/step - loss: 4.7063 - accuracy: 0.0395 - val_loss: 4.6968 - val_accuracy: 0.0284\n",
      "Epoch 7/20\n",
      "201/201 [==============================] - 209s 1s/step - loss: 4.6033 - accuracy: 0.0457 - val_loss: 4.7145 - val_accuracy: 0.0296\n",
      "Epoch 8/20\n",
      "201/201 [==============================] - 208s 1s/step - loss: 4.5184 - accuracy: 0.0544 - val_loss: 4.6426 - val_accuracy: 0.0391\n",
      "Epoch 9/20\n",
      "201/201 [==============================] - 207s 1s/step - loss: 4.4603 - accuracy: 0.0575 - val_loss: 4.5289 - val_accuracy: 0.0415\n",
      "Epoch 10/20\n",
      "201/201 [==============================] - 203s 1s/step - loss: 4.3863 - accuracy: 0.0677 - val_loss: 4.5165 - val_accuracy: 0.0533\n",
      "Epoch 11/20\n",
      "201/201 [==============================] - 199s 992ms/step - loss: 4.3372 - accuracy: 0.0680 - val_loss: 4.5464 - val_accuracy: 0.0391\n",
      "Epoch 12/20\n",
      "201/201 [==============================] - 198s 985ms/step - loss: 4.3017 - accuracy: 0.0747 - val_loss: 4.4689 - val_accuracy: 0.0533\n",
      "Epoch 13/20\n",
      "201/201 [==============================] - 195s 969ms/step - loss: 4.2637 - accuracy: 0.0728 - val_loss: 4.3089 - val_accuracy: 0.0936\n",
      "Epoch 14/20\n",
      "201/201 [==============================] - 188s 936ms/step - loss: 4.2052 - accuracy: 0.0859 - val_loss: 4.4629 - val_accuracy: 0.0723\n",
      "Epoch 15/20\n",
      "201/201 [==============================] - 103s 514ms/step - loss: 4.1716 - accuracy: 0.0893 - val_loss: 4.4385 - val_accuracy: 0.0794\n",
      "Epoch 16/20\n",
      "201/201 [==============================] - 104s 519ms/step - loss: 4.1199 - accuracy: 0.0956 - val_loss: 4.2917 - val_accuracy: 0.0841\n",
      "Epoch 17/20\n",
      "201/201 [==============================] - 104s 518ms/step - loss: 4.0560 - accuracy: 0.0998 - val_loss: 4.2065 - val_accuracy: 0.0983\n",
      "Epoch 18/20\n",
      "201/201 [==============================] - 107s 532ms/step - loss: 4.0341 - accuracy: 0.1049 - val_loss: 4.1675 - val_accuracy: 0.1126\n",
      "Epoch 19/20\n",
      "201/201 [==============================] - 105s 522ms/step - loss: 3.9782 - accuracy: 0.1104 - val_loss: 4.1757 - val_accuracy: 0.1173\n",
      "Epoch 20/20\n",
      "201/201 [==============================] - 104s 517ms/step - loss: 3.9338 - accuracy: 0.1201 - val_loss: 4.1737 - val_accuracy: 0.1137\n"
     ]
    }
   ],
   "source": [
    "# model fit on the training set\n",
    "\n",
    "history_custom_model = custom_model.fit_generator(generator = training_set,\n",
    "                            validation_data = validation_set,\n",
    "                            epochs =20\n",
    "                            )"
   ]
  },
  {
   "cell_type": "code",
   "execution_count": 43,
   "metadata": {},
   "outputs": [
    {
     "name": "stdout",
     "output_type": "stream",
     "text": [
      "27/27 - 8s - loss: 4.1749 - accuracy: 0.1173\n"
     ]
    }
   ],
   "source": [
    "# final evaluation on the test set\n",
    "\n",
    "score_custom_model = custom_model.evaluate_generator(test_set, verbose=2)\n"
   ]
  },
  {
   "cell_type": "code",
   "execution_count": 44,
   "metadata": {},
   "outputs": [
    {
     "name": "stdout",
     "output_type": "stream",
     "text": [
      "Custom Model : Test Loss is :  4.1748528480529785\n",
      "Custom Model : Test Accuracy is :  0.11729858070611954\n"
     ]
    }
   ],
   "source": [
    "# test loss and test accuracy\n",
    "\n",
    "print('Custom Model : Test Loss is : ', score_custom_model[0])\n",
    "print('Custom Model : Test Accuracy is : ', score_custom_model[1])"
   ]
  },
  {
   "cell_type": "code",
   "execution_count": null,
   "metadata": {},
   "outputs": [],
   "source": [
    "custom_model.save(\"Custom_model_for_currency_classification.h5\")"
   ]
  },
  {
   "cell_type": "code",
   "execution_count": null,
   "metadata": {},
   "outputs": [],
   "source": []
  },
  {
   "cell_type": "code",
   "execution_count": null,
   "metadata": {},
   "outputs": [],
   "source": []
  },
  {
   "cell_type": "code",
   "execution_count": null,
   "metadata": {},
   "outputs": [],
   "source": []
  }
 ],
 "metadata": {
  "kernelspec": {
   "display_name": "Python 3",
   "language": "python",
   "name": "python3"
  },
  "language_info": {
   "codemirror_mode": {
    "name": "ipython",
    "version": 3
   },
   "file_extension": ".py",
   "mimetype": "text/x-python",
   "name": "python",
   "nbconvert_exporter": "python",
   "pygments_lexer": "ipython3",
   "version": "3.7.7"
  }
 },
 "nbformat": 4,
 "nbformat_minor": 4
}
